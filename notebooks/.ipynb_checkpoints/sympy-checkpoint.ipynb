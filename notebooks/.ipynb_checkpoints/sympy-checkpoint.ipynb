{
 "cells": [
  {
   "cell_type": "code",
   "execution_count": 1,
   "metadata": {},
   "outputs": [],
   "source": [
    "from sympy import *\n",
    "from sympy.physics.quantum.dagger import Dagger\n",
    "from sympy.physics.quantum.state import Ket, Bra\n",
    "from sympy.physics.quantum.operator import HermitianOperator"
   ]
  },
  {
   "cell_type": "code",
   "execution_count": 2,
   "metadata": {},
   "outputs": [],
   "source": [
    "m=3\n",
    "paulis = [HermitianOperator(f'sigma_{i}') for i in range(m)]\n",
    "omega= symbols('omega')\n",
    "Vs=[HermitianOperator(f'V_{i}') for i in range(m)]\n",
    "rhot=HermitianOperator('rho_t')\n",
    "kp = symbols('k_+')"
   ]
  },
  {
   "cell_type": "code",
   "execution_count": 3,
   "metadata": {},
   "outputs": [],
   "source": [
    "state=rhot\n",
    "for i in range(m):\n",
    "    state = kp*Vs[i]*state*Vs[i] + (1-kp)*paulis[i]*Vs[i]*state*Vs[i]*paulis[i]"
   ]
  },
  {
   "cell_type": "code",
   "execution_count": 5,
   "metadata": {},
   "outputs": [
    {
     "data": {
      "text/latex": [
       "$\\displaystyle k_{+} V_{2} \\left(k_{+} V_{1} \\left(k_{+} V_{0} \\rho_{t} V_{0} + \\left(1 - k_{+}\\right) \\sigma_{0} V_{0} \\rho_{t} V_{0} \\sigma_{0}\\right) V_{1} + \\left(1 - k_{+}\\right) \\sigma_{1} V_{1} \\left(k_{+} V_{0} \\rho_{t} V_{0} + \\left(1 - k_{+}\\right) \\sigma_{0} V_{0} \\rho_{t} V_{0} \\sigma_{0}\\right) V_{1} \\sigma_{1}\\right) V_{2} + \\left(1 - k_{+}\\right) \\sigma_{2} V_{2} \\left(k_{+} V_{1} \\left(k_{+} V_{0} \\rho_{t} V_{0} + \\left(1 - k_{+}\\right) \\sigma_{0} V_{0} \\rho_{t} V_{0} \\sigma_{0}\\right) V_{1} + \\left(1 - k_{+}\\right) \\sigma_{1} V_{1} \\left(k_{+} V_{0} \\rho_{t} V_{0} + \\left(1 - k_{+}\\right) \\sigma_{0} V_{0} \\rho_{t} V_{0} \\sigma_{0}\\right) V_{1} \\sigma_{1}\\right) V_{2} \\sigma_{2}$"
      ],
      "text/plain": [
       "k_+*V_2*(k_+*V_1*(k_+*V_0*rho_t*V_0 + (1 - k_+)*sigma_0*V_0*rho_t*V_0*sigma_0)*V_1 + (1 - k_+)*sigma_1*V_1*(k_+*V_0*rho_t*V_0 + (1 - k_+)*sigma_0*V_0*rho_t*V_0*sigma_0)*V_1*sigma_1)*V_2 + (1 - k_+)*sigma_2*V_2*(k_+*V_1*(k_+*V_0*rho_t*V_0 + (1 - k_+)*sigma_0*V_0*rho_t*V_0*sigma_0)*V_1 + (1 - k_+)*sigma_1*V_1*(k_+*V_0*rho_t*V_0 + (1 - k_+)*sigma_0*V_0*rho_t*V_0*sigma_0)*V_1*sigma_1)*V_2*sigma_2"
      ]
     },
     "execution_count": 5,
     "metadata": {},
     "output_type": "execute_result"
    }
   ],
   "source": [
    "simplify(state)"
   ]
  }
 ],
 "metadata": {
  "kernelspec": {
   "display_name": "fidlib",
   "language": "python",
   "name": "python3"
  },
  "language_info": {
   "codemirror_mode": {
    "name": "ipython",
    "version": 3
   },
   "file_extension": ".py",
   "mimetype": "text/x-python",
   "name": "python",
   "nbconvert_exporter": "python",
   "pygments_lexer": "ipython3",
   "version": "3.11.6"
  }
 },
 "nbformat": 4,
 "nbformat_minor": 2
}
