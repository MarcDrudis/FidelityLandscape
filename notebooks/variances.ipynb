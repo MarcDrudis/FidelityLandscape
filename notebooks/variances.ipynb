{
 "cells": [
  {
   "cell_type": "code",
   "execution_count": 1,
   "metadata": {},
   "outputs": [],
   "source": [
    "import numpy as np\n",
    "from qiskit.circuit.library import EfficientSU2\n",
    "from tqdm import tqdm\n",
    "import plotly.graph_objects as go\n",
    "import plotly.express as px\n",
    "from fidlib.basicfunctions import create_ising\n",
    "from fidlib.variance import VarianceComputer,_abs2,kplus\n",
    "\n",
    "np.random.seed(1)\n",
    "%load_ext autoreload\n",
    "%autoreload 2"
   ]
  },
  {
   "cell_type": "code",
   "execution_count": 2,
   "metadata": {},
   "outputs": [
    {
     "name": "stderr",
     "output_type": "stream",
     "text": [
      " 25%|██▌       | 5/20 [03:41<10:53, 43.60s/it]"
     ]
    }
   ],
   "source": [
    "\n",
    "qc = EfficientSU2(num_qubits := 6,reps=(reps:=12))\n",
    "times=(1, 3)\n",
    "vc = VarianceComputer(    qc=qc,    initial_parameters=None,    times=times,    H=create_ising(num_qubits=num_qubits, j_const=0.5, g_const=-1))\n",
    "\n",
    "\n",
    "# omegas = np.logspace(-3, -1, 10)\n",
    "omegas = np.linspace(1e-3,5e-1,20)\n",
    "variances = []\n",
    "for o in tqdm(omegas):\n",
    "    variances.append(vc.direct_compute_variance(400, o))\n",
    "\n",
    "variances = np.array(variances)"
   ]
  },
  {
   "cell_type": "code",
   "execution_count": null,
   "metadata": {},
   "outputs": [],
   "source": [
    "analytical_infidelities=[1-_abs2(np.inner(vc.evolved_states[0], vc.evolved_states[i].conj())) for i in range(times[1])]\n",
    "display(px.line(x=np.linspace(0,times[0],times[1]),y=analytical_infidelities))\n",
    "display(px.line(x=omegas,y=[kplus(o)**reps for o in omegas]))"
   ]
  },
  {
   "cell_type": "code",
   "execution_count": null,
   "metadata": {},
   "outputs": [],
   "source": [
    "# Assuming data is your 2D numpy array\n",
    "data = variances# Replace this with your actual data\n",
    "\n",
    "# Create steps for the slider, one for each slice along parameter 2\n",
    "steps = []\n",
    "for i in range(data.shape[1]):\n",
    "    step = dict(\n",
    "        method=\"restyle\",\n",
    "        args=[{\"y\": [data[:, i]]}],\n",
    "        label=str(np.linspace(0,times[0],times[1])[i])\n",
    "    )\n",
    "    steps.append(step)\n",
    "\n",
    "# Create an initial plot for the first slice of data along parameter 2\n",
    "fig = go.Figure(\n",
    "    data=[go.Scatter(x=omegas,y=data[:, 0])],\n",
    "    layout=go.Layout(\n",
    "        title=f\"Interactive Plot num_params={qc.num_parameters}\",\n",
    "        xaxis_title=\"omega\",\n",
    "        yaxis_title=\"Variance\",\n",
    "        sliders=[dict(\n",
    "            active=0,\n",
    "            pad={\"t\": 20},\n",
    "            steps=steps,\n",
    "        )],\n",
    "        # yaxis_range=[np.min(data),1],\n",
    "    )\n",
    ")\n",
    "\n",
    "fig.show()\n"
   ]
  },
  {
   "cell_type": "code",
   "execution_count": null,
   "metadata": {},
   "outputs": [],
   "source": [
    "import matplotlib.pyplot as plt\n",
    "import numpy as np\n",
    "\n",
    "# Assuming data is your 2D numpy array\n",
    "data = variances\n",
    "\n",
    "# Create a plot for each entry in data\n",
    "omegas = times\n",
    "for i in range(data.shape[1]):\n",
    "    plt.plot(omegas, data[:, i], label=f'Parameter {i+1}')\n",
    "\n",
    "# Add title and labels\n",
    "plt.title(\"Static Plot\")\n",
    "plt.xlabel(\"omega\")\n",
    "plt.ylabel(\"Variance\")\n",
    "\n",
    "# Add legend\n",
    "plt.legend()\n",
    "\n",
    "# Show the plot\n",
    "plt.show()\n"
   ]
  },
  {
   "cell_type": "code",
   "execution_count": null,
   "metadata": {},
   "outputs": [],
   "source": [
    "# Assuming data is your 2D numpy array\n",
    "data = variances.T# Replace this with your actual data\n",
    "\n",
    "# Create steps for the slider, one for each slice along parameter 2\n",
    "steps = []\n",
    "for i in range(data.shape[1]):\n",
    "    step = dict(\n",
    "        method=\"restyle\",\n",
    "        args=[{\"y\": [data[:, i]]}],\n",
    "        label=str(omegas[i])\n",
    "    )\n",
    "    steps.append(step)\n",
    "\n",
    "# Create an initial plot for the first slice of data along parameter 2\n",
    "fig = go.Figure(\n",
    "    data=[go.Scatter(x=np.linspace(0,times[0],times[1]),y=data[:, 0])],\n",
    "    layout=go.Layout(\n",
    "        title=\"Interactive Plot\",\n",
    "        xaxis_title=\"dt\",\n",
    "        yaxis_title=\"Variance\",\n",
    "        sliders=[dict(\n",
    "            active=0,\n",
    "            pad={\"t\": 20},\n",
    "            steps=steps,\n",
    "        )],\n",
    "        # yaxis_range=[np.min(data),1],\n",
    "    )\n",
    ")\n",
    "\n",
    "# fig.update_yaxes(type=\"log\")\n",
    "\n",
    "\n",
    "# Display the interactive plot\n",
    "fig.show()\n"
   ]
  },
  {
   "cell_type": "code",
   "execution_count": null,
   "metadata": {},
   "outputs": [],
   "source": []
  },
  {
   "cell_type": "code",
   "execution_count": null,
   "metadata": {},
   "outputs": [],
   "source": []
  },
  {
   "cell_type": "code",
   "execution_count": null,
   "metadata": {},
   "outputs": [],
   "source": []
  }
 ],
 "metadata": {
  "kernelspec": {
   "display_name": "Python 3 (ipykernel)",
   "language": "python",
   "name": "python3"
  },
  "language_info": {
   "codemirror_mode": {
    "name": "ipython",
    "version": 3
   },
   "file_extension": ".py",
   "mimetype": "text/x-python",
   "name": "python",
   "nbconvert_exporter": "python",
   "pygments_lexer": "ipython3",
   "version": "3.11.6"
  }
 },
 "nbformat": 4,
 "nbformat_minor": 4
}
